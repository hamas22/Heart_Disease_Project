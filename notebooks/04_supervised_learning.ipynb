{
 "cells": [
  {
   "cell_type": "markdown",
   "id": "12c9c7f1",
   "metadata": {},
   "source": [
    "# 04 - Supervised Learning: Classification Models\n",
    "\n",
    "This notebook trains and evaluates classification models to predict heart disease.\n",
    "\n",
    "### Models:\n",
    "- Logistic Regression\n",
    "- Decision Tree\n",
    "- Random Forest\n",
    "- Support Vector Machine (SVM)\n",
    "\n",
    "### Evaluation Metrics:\n",
    "- Accuracy, Precision, Recall, F1-Score\n",
    "- ROC Curve & AUC Score\n"
   ]
  },
  {
   "cell_type": "code",
   "execution_count": null,
   "id": "fab1b0c2",
   "metadata": {},
   "outputs": [],
   "source": [
    "import pandas as pd\n",
    "import numpy as np\n",
    "import matplotlib.pyplot as plt\n",
    "import seaborn as sns\n",
    "\n",
    "from sklearn.model_selection import train_test_split\n",
    "from sklearn.metrics import accuracy_score, precision_score, recall_score, f1_score, roc_auc_score, roc_curve, confusion_matrix, classification_report\n",
    "\n",
    "from sklearn.linear_model import LogisticRegression\n",
    "from sklearn.tree import DecisionTreeClassifier\n",
    "from sklearn.ensemble import RandomForestClassifier\n",
    "from sklearn.svm import SVC\n"
   ]
  },
  {
   "cell_type": "markdown",
   "id": "8820c527",
   "metadata": {},
   "source": [
    "## Step 1: Load Selected Features Dataset\n"
   ]
  },
  {
   "cell_type": "code",
   "execution_count": null,
   "id": "3ae41c5f",
   "metadata": {},
   "outputs": [
    {
     "data": {
      "text/html": [
       "<div>\n",
       "<style scoped>\n",
       "    .dataframe tbody tr th:only-of-type {\n",
       "        vertical-align: middle;\n",
       "    }\n",
       "\n",
       "    .dataframe tbody tr th {\n",
       "        vertical-align: top;\n",
       "    }\n",
       "\n",
       "    .dataframe thead th {\n",
       "        text-align: right;\n",
       "    }\n",
       "</style>\n",
       "<table border=\"1\" class=\"dataframe\">\n",
       "  <thead>\n",
       "    <tr style=\"text-align: right;\">\n",
       "      <th></th>\n",
       "      <th>PC1</th>\n",
       "      <th>PC5</th>\n",
       "      <th>PC4</th>\n",
       "      <th>PC9</th>\n",
       "      <th>PC2</th>\n",
       "      <th>PC8</th>\n",
       "      <th>PC7</th>\n",
       "      <th>PC6</th>\n",
       "      <th>PC3</th>\n",
       "      <th>PC10</th>\n",
       "      <th>target</th>\n",
       "    </tr>\n",
       "  </thead>\n",
       "  <tbody>\n",
       "    <tr>\n",
       "      <th>0</th>\n",
       "      <td>0.613803</td>\n",
       "      <td>2.211090</td>\n",
       "      <td>-0.816134</td>\n",
       "      <td>-0.099221</td>\n",
       "      <td>2.344950</td>\n",
       "      <td>0.016348</td>\n",
       "      <td>1.455185</td>\n",
       "      <td>1.823751</td>\n",
       "      <td>4.543948</td>\n",
       "      <td>-0.112827</td>\n",
       "      <td>0</td>\n",
       "    </tr>\n",
       "    <tr>\n",
       "      <th>1</th>\n",
       "      <td>3.469339</td>\n",
       "      <td>0.171983</td>\n",
       "      <td>-0.840263</td>\n",
       "      <td>-0.411693</td>\n",
       "      <td>0.918380</td>\n",
       "      <td>0.169923</td>\n",
       "      <td>-0.043497</td>\n",
       "      <td>0.848224</td>\n",
       "      <td>-1.175232</td>\n",
       "      <td>-0.208924</td>\n",
       "      <td>1</td>\n",
       "    </tr>\n",
       "    <tr>\n",
       "      <th>2</th>\n",
       "      <td>3.324561</td>\n",
       "      <td>-0.745340</td>\n",
       "      <td>-0.046004</td>\n",
       "      <td>-0.997485</td>\n",
       "      <td>-0.720734</td>\n",
       "      <td>0.576024</td>\n",
       "      <td>-0.234373</td>\n",
       "      <td>0.324757</td>\n",
       "      <td>-0.461900</td>\n",
       "      <td>-0.259045</td>\n",
       "      <td>1</td>\n",
       "    </tr>\n",
       "    <tr>\n",
       "      <th>3</th>\n",
       "      <td>-1.689203</td>\n",
       "      <td>-0.098559</td>\n",
       "      <td>1.035580</td>\n",
       "      <td>-0.917294</td>\n",
       "      <td>0.408676</td>\n",
       "      <td>0.902457</td>\n",
       "      <td>1.106077</td>\n",
       "      <td>-2.351468</td>\n",
       "      <td>3.827134</td>\n",
       "      <td>0.236137</td>\n",
       "      <td>0</td>\n",
       "    </tr>\n",
       "    <tr>\n",
       "      <th>4</th>\n",
       "      <td>-2.545574</td>\n",
       "      <td>1.218582</td>\n",
       "      <td>-1.271556</td>\n",
       "      <td>-0.007793</td>\n",
       "      <td>-0.438278</td>\n",
       "      <td>1.227352</td>\n",
       "      <td>0.392801</td>\n",
       "      <td>-0.335912</td>\n",
       "      <td>-0.015576</td>\n",
       "      <td>-0.462969</td>\n",
       "      <td>0</td>\n",
       "    </tr>\n",
       "  </tbody>\n",
       "</table>\n",
       "</div>"
      ],
      "text/plain": [
       "        PC1       PC5       PC4       PC9       PC2       PC8       PC7  \\\n",
       "0  0.613803  2.211090 -0.816134 -0.099221  2.344950  0.016348  1.455185   \n",
       "1  3.469339  0.171983 -0.840263 -0.411693  0.918380  0.169923 -0.043497   \n",
       "2  3.324561 -0.745340 -0.046004 -0.997485 -0.720734  0.576024 -0.234373   \n",
       "3 -1.689203 -0.098559  1.035580 -0.917294  0.408676  0.902457  1.106077   \n",
       "4 -2.545574  1.218582 -1.271556 -0.007793 -0.438278  1.227352  0.392801   \n",
       "\n",
       "        PC6       PC3      PC10  target  \n",
       "0  1.823751  4.543948 -0.112827       0  \n",
       "1  0.848224 -1.175232 -0.208924       1  \n",
       "2  0.324757 -0.461900 -0.259045       1  \n",
       "3 -2.351468  3.827134  0.236137       0  \n",
       "4 -0.335912 -0.015576 -0.462969       0  "
      ]
     },
     "execution_count": 2,
     "metadata": {},
     "output_type": "execute_result"
    }
   ],
   "source": [
    "df = pd.read_csv('data/heart_disease_selected.csv')\n",
    "df.head()\n"
   ]
  },
  {
   "cell_type": "markdown",
   "id": "6d7c94a8",
   "metadata": {},
   "source": [
    "## Step 2: Split Data into Train and Test Sets (80/20)\n"
   ]
  },
  {
   "cell_type": "code",
   "execution_count": 3,
   "id": "0fa73b5b",
   "metadata": {},
   "outputs": [
    {
     "name": "stdout",
     "output_type": "stream",
     "text": [
      "Train size: (237, 10)\n",
      "Test size: (60, 10)\n"
     ]
    }
   ],
   "source": [
    "X = df.drop('target', axis=1)\n",
    "y = df['target']\n",
    "\n",
    "X_train, X_test, y_train, y_test = train_test_split(X, y, test_size=0.2, random_state=42, stratify=y)\n",
    "print(\"Train size:\", X_train.shape)\n",
    "print(\"Test size:\", X_test.shape)\n"
   ]
  },
  {
   "cell_type": "markdown",
   "id": "26b68d74",
   "metadata": {},
   "source": [
    "## Step 3: Define Helper Function to Evaluate Models\n"
   ]
  },
  {
   "cell_type": "code",
   "execution_count": 4,
   "id": "cf793820",
   "metadata": {},
   "outputs": [],
   "source": [
    "def evaluate_model(name, model, X_test, y_test):\n",
    "    y_pred = model.predict(X_test)\n",
    "    y_proba = model.predict_proba(X_test)[:, 1] if hasattr(model, \"predict_proba\") else None\n",
    "\n",
    "    acc = accuracy_score(y_test, y_pred)\n",
    "    prec = precision_score(y_test, y_pred)\n",
    "    rec = recall_score(y_test, y_pred)\n",
    "    f1 = f1_score(y_test, y_pred)\n",
    "    auc = roc_auc_score(y_test, y_proba) if y_proba is not None else None\n",
    "\n",
    "    print(f\"--- {name} ---\")\n",
    "    print(f\"Accuracy : {acc:.3f}\")\n",
    "    print(f\"Precision: {prec:.3f}\")\n",
    "    print(f\"Recall   : {rec:.3f}\")\n",
    "    print(f\"F1-Score : {f1:.3f}\")\n",
    "    if auc: print(f\"AUC Score: {auc:.3f}\")\n",
    "    print(\"\\nConfusion Matrix:\")\n",
    "    print(confusion_matrix(y_test, y_pred))\n",
    "    print(\"\\nClassification Report:\")\n",
    "    print(classification_report(y_test, y_pred))\n",
    "    \n",
    "    if y_proba is not None:\n",
    "        fpr, tpr, _ = roc_curve(y_test, y_proba)\n",
    "        plt.plot(fpr, tpr, label=f'{name} (AUC = {auc:.2f})')\n"
   ]
  },
  {
   "cell_type": "markdown",
   "id": "8ba9001d",
   "metadata": {},
   "source": [
    "## Step 4: Train and Evaluate Models\n"
   ]
  },
  {
   "cell_type": "code",
   "execution_count": 5,
   "id": "d076cd3f",
   "metadata": {},
   "outputs": [
    {
     "name": "stdout",
     "output_type": "stream",
     "text": [
      "--- Logistic Regression ---\n",
      "Accuracy : 0.833\n",
      "Precision: 0.846\n",
      "Recall   : 0.786\n",
      "F1-Score : 0.815\n",
      "AUC Score: 0.943\n",
      "\n",
      "Confusion Matrix:\n",
      "[[28  4]\n",
      " [ 6 22]]\n",
      "\n",
      "Classification Report:\n",
      "              precision    recall  f1-score   support\n",
      "\n",
      "           0       0.82      0.88      0.85        32\n",
      "           1       0.85      0.79      0.81        28\n",
      "\n",
      "    accuracy                           0.83        60\n",
      "   macro avg       0.83      0.83      0.83        60\n",
      "weighted avg       0.83      0.83      0.83        60\n",
      "\n",
      "--- Decision Tree ---\n",
      "Accuracy : 0.817\n",
      "Precision: 0.793\n",
      "Recall   : 0.821\n",
      "F1-Score : 0.807\n",
      "AUC Score: 0.817\n",
      "\n",
      "Confusion Matrix:\n",
      "[[26  6]\n",
      " [ 5 23]]\n",
      "\n",
      "Classification Report:\n",
      "              precision    recall  f1-score   support\n",
      "\n",
      "           0       0.84      0.81      0.83        32\n",
      "           1       0.79      0.82      0.81        28\n",
      "\n",
      "    accuracy                           0.82        60\n",
      "   macro avg       0.82      0.82      0.82        60\n",
      "weighted avg       0.82      0.82      0.82        60\n",
      "\n",
      "--- Random Forest ---\n",
      "Accuracy : 0.817\n",
      "Precision: 0.840\n",
      "Recall   : 0.750\n",
      "F1-Score : 0.792\n",
      "AUC Score: 0.926\n",
      "\n",
      "Confusion Matrix:\n",
      "[[28  4]\n",
      " [ 7 21]]\n",
      "\n",
      "Classification Report:\n",
      "              precision    recall  f1-score   support\n",
      "\n",
      "           0       0.80      0.88      0.84        32\n",
      "           1       0.84      0.75      0.79        28\n",
      "\n",
      "    accuracy                           0.82        60\n",
      "   macro avg       0.82      0.81      0.81        60\n",
      "weighted avg       0.82      0.82      0.82        60\n",
      "\n",
      "--- SVM ---\n",
      "Accuracy : 0.850\n",
      "Precision: 0.852\n",
      "Recall   : 0.821\n",
      "F1-Score : 0.836\n",
      "AUC Score: 0.933\n",
      "\n",
      "Confusion Matrix:\n",
      "[[28  4]\n",
      " [ 5 23]]\n",
      "\n",
      "Classification Report:\n",
      "              precision    recall  f1-score   support\n",
      "\n",
      "           0       0.85      0.88      0.86        32\n",
      "           1       0.85      0.82      0.84        28\n",
      "\n",
      "    accuracy                           0.85        60\n",
      "   macro avg       0.85      0.85      0.85        60\n",
      "weighted avg       0.85      0.85      0.85        60\n",
      "\n"
     ]
    },
    {
     "data": {
      "image/png": "[encoded data removed]",
      "text/plain": [
       "<Figure size 1000x600 with 1 Axes>"
      ]
     },
     "metadata": {},
     "output_type": "display_data"
    }
   ],
   "source": [
    "models = {\n",
    "    \"Logistic Regression\": LogisticRegression(max_iter=1000),\n",
    "    \"Decision Tree\": DecisionTreeClassifier(),\n",
    "    \"Random Forest\": RandomForestClassifier(),\n",
    "    \"SVM\": SVC(probability=True)  # Required for ROC curve\n",
    "}\n",
    "\n",
    "# Train, evaluate, and collect results\n",
    "plt.figure(figsize=(10, 6))\n",
    "for name, model in models.items():\n",
    "    model.fit(X_train, y_train)\n",
    "    evaluate_model(name, model, X_test, y_test)\n",
    "\n",
    "plt.plot([0, 1], [0, 1], 'k--')\n",
    "plt.xlabel('False Positive Rate')\n",
    "plt.ylabel('True Positive Rate')\n",
    "plt.title('ROC Curves')\n",
    "plt.legend()\n",
    "plt.grid(True)\n",
    "plt.show()\n"
   ]
  },
  {
   "cell_type": "markdown",
   "id": "c4354ff5",
   "metadata": {},
   "source": [
    "## Step 5: Save Trained Models\n",
    "We will save models for future use and deployment.\n"
   ]
  },
  {
   "cell_type": "code",
   "execution_count": null,
   "id": "e079f42b",
   "metadata": {},
   "outputs": [
    {
     "name": "stdout",
     "output_type": "stream",
     "text": [
      "All models saved successfully.\n"
     ]
    }
   ],
   "source": [
    "import joblib\n",
    "import os\n",
    "\n",
    "os.makedirs('../models', exist_ok=True)\n",
    "\n",
    "for name, model in models.items():\n",
    "    filename = f\"../models/{name.lower().replace(' ', '_')}.pkl\"\n",
    "    joblib.dump(model, filename)\n",
    "\n",
    "print(\"All models saved successfully.\")\n"
   ]
  },
  {
   "cell_type": "markdown",
   "id": "d41f6aa8",
   "metadata": {},
   "source": [
    "## Summary:\n",
    "- All 4 classification models were trained and evaluated.\n",
    "- Best-performing model will be tuned next in `05_hyperparameter_tuning.ipynb`\n"
   ]
  }
 ],
 "metadata": {
  "kernelspec": {
   "display_name": "Python 3.13 (pandas)",
   "language": "python",
   "name": "py313"
  },
  "language_info": {
   "codemirror_mode": {
    "name": "ipython",
    "version": 3
   },
   "file_extension": ".py",
   "mimetype": "text/x-python",
   "name": "python",
   "nbconvert_exporter": "python",
   "pygments_lexer": "ipython3",
   "version": "3.13.1"
  }
 },
 "nbformat": 4,
 "nbformat_minor": 5
}
