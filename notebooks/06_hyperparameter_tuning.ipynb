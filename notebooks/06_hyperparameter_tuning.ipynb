{
 "cells": [
  {
   "cell_type": "markdown",
   "id": "19db2eda",
   "metadata": {},
   "source": [
    "# 06 - Hyperparameter Tuning\n",
    "\n",
    "This notebook focuses on tuning the hyperparameters of our classification models  \n",
    "(Logistic Regression, Decision Tree, Random Forest, and SVM) to improve their performance.\n",
    "\n",
    "We will use:\n",
    "- GridSearchCV for exhaustive search on parameter grids.\n",
    "- RandomizedSearchCV for faster, random parameter search (optional).\n",
    "  \n",
    "The models tuned here are the same as those trained previously in `04_supervised_learning.ipynb`.\n"
   ]
  },
  {
   "cell_type": "code",
   "execution_count": null,
   "id": "81b8b022",
   "metadata": {},
   "outputs": [],
   "source": [
    "import pandas as pd\n",
    "import numpy as np\n",
    "import matplotlib.pyplot as plt\n",
    "import seaborn as sns\n",
    "\n",
    "from sklearn.model_selection import train_test_split, GridSearchCV, RandomizedSearchCV\n",
    "from sklearn.linear_model import LogisticRegression\n",
    "from sklearn.tree import DecisionTreeClassifier\n",
    "from sklearn.ensemble import RandomForestClassifier\n",
    "from sklearn.svm import SVC\n",
    "\n",
    "from sklearn.metrics import accuracy_score, precision_score, recall_score, f1_score, roc_auc_score, classification_report, confusion_matrix, roc_curve\n",
    "\n",
    "import joblib\n",
    "import os\n"
   ]
  },
  {
   "cell_type": "markdown",
   "id": "2eeefa35",
   "metadata": {},
   "source": [
    "## Step 1: Load Dataset and Split Data\n",
    "\n",
    "Load the dataset with selected features and split into train/test sets (80/20) with stratification.\n"
   ]
  },
  {
   "cell_type": "code",
   "execution_count": 2,
   "id": "3948e8b5",
   "metadata": {},
   "outputs": [
    {
     "name": "stdout",
     "output_type": "stream",
     "text": [
      "Training data shape: (237, 10)\n",
      "Testing data shape : (60, 10)\n"
     ]
    }
   ],
   "source": [
    "df = pd.read_csv('data/heart_disease_selected.csv')\n",
    "\n",
    "X = df.drop('target', axis=1)\n",
    "y = df['target']\n",
    "\n",
    "X_train, X_test, y_train, y_test = train_test_split(\n",
    "    X, y, test_size=0.2, random_state=42, stratify=y\n",
    ")\n",
    "\n",
    "print(f\"Training data shape: {X_train.shape}\")\n",
    "print(f\"Testing data shape : {X_test.shape}\")\n"
   ]
  },
  {
   "cell_type": "markdown",
   "id": "a05a3fbc",
   "metadata": {},
   "source": [
    "## Step 2: Define Models and Hyperparameter Grids\n",
    "\n",
    "Define the classification models and their respective hyperparameter grids for tuning.\n"
   ]
  },
  {
   "cell_type": "code",
   "execution_count": 3,
   "id": "42646609",
   "metadata": {},
   "outputs": [],
   "source": [
    "models = {\n",
    "    'Logistic Regression': LogisticRegression(max_iter=1000, solver='liblinear'),\n",
    "    'Decision Tree': DecisionTreeClassifier(random_state=42),\n",
    "    'Random Forest': RandomForestClassifier(random_state=42),\n",
    "    'SVM': SVC(probability=True, random_state=42)\n",
    "}\n",
    "\n",
    "param_grids = {\n",
    "    'Logistic Regression': {\n",
    "        'C': [0.01, 0.1, 1, 10, 100],\n",
    "        'penalty': ['l1', 'l2']\n",
    "    },\n",
    "    'Decision Tree': {\n",
    "        'max_depth': [None, 5, 10, 20, 30],\n",
    "        'min_samples_split': [2, 5, 10],\n",
    "        'min_samples_leaf': [1, 2, 4]\n",
    "    },\n",
    "    'Random Forest': {\n",
    "        'n_estimators': [50, 100, 200],\n",
    "        'max_depth': [None, 10, 20],\n",
    "        'min_samples_split': [2, 5],\n",
    "        'min_samples_leaf': [1, 2]\n",
    "    },\n",
    "    'SVM': {\n",
    "        'C': [0.1, 1, 10, 100],\n",
    "        'kernel': ['linear', 'rbf', 'poly'],\n",
    "        'gamma': ['scale', 'auto']\n",
    "    }\n",
    "}\n"
   ]
  },
  {
   "cell_type": "markdown",
   "id": "b19cb52e",
   "metadata": {},
   "source": [
    "## Step 3: Hyperparameter Tuning with GridSearchCV\n",
    "\n",
    "Perform exhaustive hyperparameter search using 5-fold cross-validation and ROC AUC scoring.\n"
   ]
  },
  {
   "cell_type": "code",
   "execution_count": 4,
   "id": "58f4159e",
   "metadata": {},
   "outputs": [
    {
     "name": "stdout",
     "output_type": "stream",
     "text": [
      "Tuning Logistic Regression...\n",
      "Fitting 5 folds for each of 10 candidates, totalling 50 fits\n",
      "Best params for Logistic Regression: {'C': 0.01, 'penalty': 'l2'}\n",
      "Best CV ROC AUC: 0.9027\n",
      "\n",
      "Tuning Decision Tree...\n",
      "Fitting 5 folds for each of 45 candidates, totalling 225 fits\n",
      "Best params for Decision Tree: {'max_depth': None, 'min_samples_leaf': 4, 'min_samples_split': 10}\n",
      "Best CV ROC AUC: 0.7816\n",
      "\n",
      "Tuning Random Forest...\n",
      "Fitting 5 folds for each of 36 candidates, totalling 180 fits\n",
      "Best params for Random Forest: {'max_depth': 10, 'min_samples_leaf': 2, 'min_samples_split': 5, 'n_estimators': 200}\n",
      "Best CV ROC AUC: 0.8871\n",
      "\n",
      "Tuning SVM...\n",
      "Fitting 5 folds for each of 24 candidates, totalling 120 fits\n",
      "Best params for SVM: {'C': 0.1, 'gamma': 'scale', 'kernel': 'linear'}\n",
      "Best CV ROC AUC: 0.8942\n",
      "\n"
     ]
    }
   ],
   "source": [
    "best_models = {}\n",
    "tuning_results = {}\n",
    "\n",
    "for name in models:\n",
    "    print(f\"Tuning {name}...\")\n",
    "    grid_search = GridSearchCV(\n",
    "        estimator=models[name],\n",
    "        param_grid=param_grids[name],\n",
    "        cv=5,\n",
    "        scoring='roc_auc',\n",
    "        n_jobs=-1,\n",
    "        verbose=2\n",
    "    )\n",
    "    grid_search.fit(X_train, y_train)\n",
    "    best_models[name] = grid_search.best_estimator_\n",
    "    tuning_results[name] = grid_search.cv_results_\n",
    "    \n",
    "    print(f\"Best params for {name}: {grid_search.best_params_}\")\n",
    "    print(f\"Best CV ROC AUC: {grid_search.best_score_:.4f}\\n\")\n"
   ]
  },
  {
   "cell_type": "markdown",
   "id": "7f8fafed",
   "metadata": {},
   "source": [
    "## Step 4: Evaluate Tuned Models on Test Set\n",
    "\n",
    "Evaluate the performance of the best tuned models on the hold-out test set.\n"
   ]
  },
  {
   "cell_type": "code",
   "execution_count": 5,
   "id": "72ed38a1",
   "metadata": {},
   "outputs": [
    {
     "name": "stdout",
     "output_type": "stream",
     "text": [
      "--- Logistic Regression (Tuned) ---\n",
      "Accuracy : 0.867\n",
      "Precision: 0.857\n",
      "Recall   : 0.857\n",
      "F1-Score : 0.857\n",
      "AUC Score: 0.943\n",
      "\n",
      "Confusion Matrix:\n",
      "[[28  4]\n",
      " [ 4 24]]\n",
      "\n",
      "Classification Report:\n",
      "              precision    recall  f1-score   support\n",
      "\n",
      "           0       0.88      0.88      0.88        32\n",
      "           1       0.86      0.86      0.86        28\n",
      "\n",
      "    accuracy                           0.87        60\n",
      "   macro avg       0.87      0.87      0.87        60\n",
      "weighted avg       0.87      0.87      0.87        60\n",
      "\n",
      "--- Decision Tree (Tuned) ---\n",
      "Accuracy : 0.833\n",
      "Precision: 0.846\n",
      "Recall   : 0.786\n",
      "F1-Score : 0.815\n",
      "AUC Score: 0.897\n",
      "\n",
      "Confusion Matrix:\n",
      "[[28  4]\n",
      " [ 6 22]]\n",
      "\n",
      "Classification Report:\n",
      "              precision    recall  f1-score   support\n",
      "\n",
      "           0       0.82      0.88      0.85        32\n",
      "           1       0.85      0.79      0.81        28\n",
      "\n",
      "    accuracy                           0.83        60\n",
      "   macro avg       0.83      0.83      0.83        60\n",
      "weighted avg       0.83      0.83      0.83        60\n",
      "\n",
      "--- Random Forest (Tuned) ---\n",
      "Accuracy : 0.850\n",
      "Precision: 0.852\n",
      "Recall   : 0.821\n",
      "F1-Score : 0.836\n",
      "AUC Score: 0.925\n",
      "\n",
      "Confusion Matrix:\n",
      "[[28  4]\n",
      " [ 5 23]]\n",
      "\n",
      "Classification Report:\n",
      "              precision    recall  f1-score   support\n",
      "\n",
      "           0       0.85      0.88      0.86        32\n",
      "           1       0.85      0.82      0.84        28\n",
      "\n",
      "    accuracy                           0.85        60\n",
      "   macro avg       0.85      0.85      0.85        60\n",
      "weighted avg       0.85      0.85      0.85        60\n",
      "\n",
      "--- SVM (Tuned) ---\n",
      "Accuracy : 0.850\n",
      "Precision: 0.852\n",
      "Recall   : 0.821\n",
      "F1-Score : 0.836\n",
      "AUC Score: 0.946\n",
      "\n",
      "Confusion Matrix:\n",
      "[[28  4]\n",
      " [ 5 23]]\n",
      "\n",
      "Classification Report:\n",
      "              precision    recall  f1-score   support\n",
      "\n",
      "           0       0.85      0.88      0.86        32\n",
      "           1       0.85      0.82      0.84        28\n",
      "\n",
      "    accuracy                           0.85        60\n",
      "   macro avg       0.85      0.85      0.85        60\n",
      "weighted avg       0.85      0.85      0.85        60\n",
      "\n"
     ]
    },
    {
     "data": {
      "image/png": "[encoded data removed]",
      "text/plain": [
       "<Figure size 1000x600 with 1 Axes>"
      ]
     },
     "metadata": {},
     "output_type": "display_data"
    }
   ],
   "source": [
    "def evaluate_model(name, model, X_test, y_test):\n",
    "    y_pred = model.predict(X_test)\n",
    "    y_proba = model.predict_proba(X_test)[:, 1] if hasattr(model, \"predict_proba\") else None\n",
    "\n",
    "    acc = accuracy_score(y_test, y_pred)\n",
    "    prec = precision_score(y_test, y_pred)\n",
    "    rec = recall_score(y_test, y_pred)\n",
    "    f1 = f1_score(y_test, y_pred)\n",
    "    auc = roc_auc_score(y_test, y_proba) if y_proba is not None else None\n",
    "\n",
    "    print(f\"--- {name} (Tuned) ---\")\n",
    "    print(f\"Accuracy : {acc:.3f}\")\n",
    "    print(f\"Precision: {prec:.3f}\")\n",
    "    print(f\"Recall   : {rec:.3f}\")\n",
    "    print(f\"F1-Score : {f1:.3f}\")\n",
    "    if auc is not None:\n",
    "        print(f\"AUC Score: {auc:.3f}\")\n",
    "    print(\"\\nConfusion Matrix:\")\n",
    "    print(confusion_matrix(y_test, y_pred))\n",
    "    print(\"\\nClassification Report:\")\n",
    "    print(classification_report(y_test, y_pred))\n",
    "    \n",
    "    if y_proba is not None:\n",
    "        fpr, tpr, _ = roc_curve(y_test, y_proba)\n",
    "        plt.plot(fpr, tpr, label=f'{name} (AUC = {auc:.2f})')\n",
    "\n",
    "plt.figure(figsize=(10, 6))\n",
    "for name, model in best_models.items():\n",
    "    evaluate_model(name, model, X_test, y_test)\n",
    "\n",
    "plt.plot([0, 1], [0, 1], 'k--')\n",
    "plt.xlabel('False Positive Rate')\n",
    "plt.ylabel('True Positive Rate')\n",
    "plt.title('ROC Curves of Tuned Models')\n",
    "plt.legend()\n",
    "plt.grid(True)\n",
    "plt.show()\n"
   ]
  },
  {
   "cell_type": "markdown",
   "id": "eda476b7",
   "metadata": {},
   "source": [
    "## Step 5: Save Tuned Models\n",
    "\n",
    "Save all the best tuned models for future deployment.\n"
   ]
  },
  {
   "cell_type": "code",
   "execution_count": null,
   "id": "fd0f0ddd",
   "metadata": {},
   "outputs": [],
   "source": [
    "os.makedirs('models', exist_ok=True)\n",
    "\n",
    "for name, model in best_models.items():\n",
    "    filename = f\"models/{name.lower().replace(' ', '_')}_tuned.pkl\"\n",
    "    joblib.dump(model, filename)\n",
    "\n",
    "print(\"All tuned models saved successfully.\")"
   ]
  },
  {
   "cell_type": "markdown",
   "id": "8dbea4bb",
   "metadata": {},
   "source": [
    "## Summary\n",
    "\n",
    "- Successfully tuned hyperparameters of all classification models.\n",
    "- Evaluated their performance on the test set with ROC AUC as main metric.\n",
    "- Saved the tuned models for downstream deployment.\n",
    "- Next steps: Model deployment and building the interactive Streamlit UI.\n"
   ]
  }
 ],
 "metadata": {
  "kernelspec": {
   "display_name": "Python 3.13 (pandas)",
   "language": "python",
   "name": "py313"
  },
  "language_info": {
   "codemirror_mode": {
    "name": "ipython",
    "version": 3
   },
   "file_extension": ".py",
   "mimetype": "text/x-python",
   "name": "python",
   "nbconvert_exporter": "python",
   "pygments_lexer": "ipython3",
   "version": "3.13.1"
  }
 },
 "nbformat": 4,
 "nbformat_minor": 5
}
