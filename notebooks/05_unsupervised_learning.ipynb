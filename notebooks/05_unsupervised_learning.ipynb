{
 "cells": [
  {
   "cell_type": "markdown",
   "id": "07d73650",
   "metadata": {},
   "source": [
    "# 05 - Hyperparameter Tuning\n",
    "\n",
    "This notebook focuses on optimizing the hyperparameters of the classification models  \n",
    "(Logistic Regression, Decision Tree, Random Forest, SVM) to improve their performance.  \n",
    "\n",
    "We will use:\n",
    "- GridSearchCV for exhaustive search over specified parameter values\n",
    "- RandomizedSearchCV for random combinations to reduce computation time\n",
    "\n",
    "After tuning, we'll compare the optimized models with baseline models from the previous step.\n"
   ]
  },
  {
   "cell_type": "code",
   "execution_count": null,
   "id": "61896dba",
   "metadata": {},
   "outputs": [],
   "source": [
    "import pandas as pd\n",
    "import numpy as np\n",
    "\n",
    "from sklearn.model_selection import GridSearchCV, RandomizedSearchCV\n",
    "from sklearn.linear_model import LogisticRegression\n",
    "from sklearn.tree import DecisionTreeClassifier\n",
    "from sklearn.ensemble import RandomForestClassifier\n",
    "from sklearn.svm import SVC\n",
    "\n",
    "from sklearn.metrics import accuracy_score, precision_score, recall_score, f1_score, roc_auc_score, classification_report, confusion_matrix, roc_curve\n",
    "\n",
    "import joblib\n",
    "import matplotlib.pyplot as plt\n",
    "import seaborn as sns\n"
   ]
  },
  {
   "cell_type": "markdown",
   "id": "fed0c0df",
   "metadata": {},
   "source": [
    "## Step 1: Load Dataset and Split Data\n",
    "\n",
    "We load the dataset with selected features and split it into training and testing sets (80/20)  \n",
    "to keep consistent with previous notebooks.\n"
   ]
  },
  {
   "cell_type": "code",
   "execution_count": 8,
   "id": "ecd9aadb",
   "metadata": {},
   "outputs": [
    {
     "name": "stdout",
     "output_type": "stream",
     "text": [
      "Training data shape: (237, 10)\n",
      "Testing data shape : (60, 10)\n"
     ]
    }
   ],
   "source": [
    "import pandas as pd\n",
    "\n",
    "# Load dataset\n",
    "df = pd.read_csv('data/heart_disease_selected.csv')\n",
    "\n",
    "X = df.drop('target', axis=1)\n",
    "y = df['target']\n",
    "\n",
    "from sklearn.model_selection import train_test_split\n",
    "\n",
    "X_train, X_test, y_train, y_test = train_test_split(\n",
    "    X, y, test_size=0.2, random_state=42, stratify=y\n",
    ")\n",
    "\n",
    "print(\"Training data shape:\", X_train.shape)\n",
    "print(\"Testing data shape :\", X_test.shape)\n"
   ]
  },
  {
   "cell_type": "markdown",
   "id": "63c83509",
   "metadata": {},
   "source": [
    "## Step 2: Define Models and Hyperparameter Grids\n",
    "\n",
    "We define the base models and specify their hyperparameter grids for tuning.\n"
   ]
  },
  {
   "cell_type": "code",
   "execution_count": null,
   "id": "e26ad943",
   "metadata": {},
   "outputs": [],
   "source": [
    "\n",
    "models = {\n",
    "    'Logistic Regression': LogisticRegression(max_iter=1000, solver='liblinear'),\n",
    "    'Decision Tree': DecisionTreeClassifier(random_state=42),\n",
    "    'Random Forest': RandomForestClassifier(random_state=42),\n",
    "    'SVM': SVC(probability=True, random_state=42)\n",
    "}\n",
    "\n",
    "param_grids = {\n",
    "    'Logistic Regression': {\n",
    "        'C': [0.01, 0.1, 1, 10, 100],\n",
    "        'penalty': ['l1', 'l2']\n",
    "    },\n",
    "    'Decision Tree': {\n",
    "        'max_depth': [None, 5, 10, 20, 30],\n",
    "        'min_samples_split': [2, 5, 10],\n",
    "        'min_samples_leaf': [1, 2, 4]\n",
    "    },\n",
    "    'Random Forest': {\n",
    "        'n_estimators': [50, 100, 200],\n",
    "        'max_depth': [None, 10, 20],\n",
    "        'min_samples_split': [2, 5],\n",
    "        'min_samples_leaf': [1, 2]\n",
    "    },\n",
    "    'SVM': {\n",
    "        'C': [0.1, 1, 10, 100],\n",
    "        'kernel': ['linear', 'rbf', 'poly'],\n",
    "        'gamma': ['scale', 'auto']\n",
    "    }\n",
    "}\n"
   ]
  },
  {
   "cell_type": "markdown",
   "id": "04a1fe8c",
   "metadata": {},
   "source": [
    "## Step 3: Perform Hyperparameter Tuning with GridSearchCV\n",
    "\n",
    "We will use GridSearchCV to find the best hyperparameters for each model,  \n",
    "using 5-fold cross-validation and scoring by ROC AUC.\n"
   ]
  },
  {
   "cell_type": "code",
   "execution_count": 12,
   "id": "705d9a5c",
   "metadata": {},
   "outputs": [
    {
     "name": "stdout",
     "output_type": "stream",
     "text": [
      "\n",
      "Tuning hyperparameters for Logistic Regression...\n",
      "Fitting 5 folds for each of 10 candidates, totalling 50 fits\n",
      "Best params for Logistic Regression: {'C': 0.01, 'penalty': 'l2'}\n",
      "Best CV AUC: 0.9027\n",
      "\n",
      "Tuning hyperparameters for Decision Tree...\n",
      "Fitting 5 folds for each of 45 candidates, totalling 225 fits\n",
      "Best params for Decision Tree: {'max_depth': None, 'min_samples_leaf': 4, 'min_samples_split': 10}\n",
      "Best CV AUC: 0.7816\n",
      "\n",
      "Tuning hyperparameters for Random Forest...\n",
      "Fitting 5 folds for each of 36 candidates, totalling 180 fits\n",
      "Best params for Random Forest: {'max_depth': 10, 'min_samples_leaf': 2, 'min_samples_split': 5, 'n_estimators': 200}\n",
      "Best CV AUC: 0.8871\n",
      "\n",
      "Tuning hyperparameters for SVM...\n",
      "Fitting 5 folds for each of 24 candidates, totalling 120 fits\n",
      "Best params for SVM: {'C': 0.1, 'gamma': 'scale', 'kernel': 'linear'}\n",
      "Best CV AUC: 0.8942\n"
     ]
    }
   ],
   "source": [
    "best_models = {}\n",
    "results = {}\n",
    "\n",
    "from sklearn.model_selection import GridSearchCV\n",
    "\n",
    "for name in models:\n",
    "    print(f\"\\nTuning hyperparameters for {name}...\")\n",
    "    grid_search = GridSearchCV(\n",
    "        estimator=models[name],\n",
    "        param_grid=param_grids[name],\n",
    "        cv=5,\n",
    "        scoring='roc_auc',\n",
    "        n_jobs=-1,\n",
    "        verbose=1\n",
    "    )\n",
    "    grid_search.fit(X_train, y_train)\n",
    "    best_models[name] = grid_search.best_estimator_\n",
    "    results[name] = grid_search.cv_results_\n",
    "\n",
    "    print(f\"Best params for {name}: {grid_search.best_params_}\")\n",
    "    print(f\"Best CV AUC: {grid_search.best_score_:.4f}\")\n"
   ]
  },
  {
   "cell_type": "markdown",
   "id": "24510a42",
   "metadata": {},
   "source": [
    "## Step 4: Evaluate Optimized Models on Test Set\n",
    "\n",
    "We test the tuned models on the hold-out test set and compare performance metrics.\n"
   ]
  },
  {
   "cell_type": "code",
   "execution_count": 15,
   "id": "31ab04eb",
   "metadata": {},
   "outputs": [
    {
     "name": "stdout",
     "output_type": "stream",
     "text": [
      "--- Logistic Regression (Optimized) ---\n",
      "Accuracy : 0.867\n",
      "Precision: 0.857\n",
      "Recall   : 0.857\n",
      "F1-Score : 0.857\n",
      "AUC Score: 0.943\n",
      "\n",
      "Confusion Matrix:\n",
      "[[28  4]\n",
      " [ 4 24]]\n",
      "\n",
      "Classification Report:\n",
      "              precision    recall  f1-score   support\n",
      "\n",
      "           0       0.88      0.88      0.88        32\n",
      "           1       0.86      0.86      0.86        28\n",
      "\n",
      "    accuracy                           0.87        60\n",
      "   macro avg       0.87      0.87      0.87        60\n",
      "weighted avg       0.87      0.87      0.87        60\n",
      "\n",
      "--- Decision Tree (Optimized) ---\n",
      "Accuracy : 0.833\n",
      "Precision: 0.846\n",
      "Recall   : 0.786\n",
      "F1-Score : 0.815\n",
      "AUC Score: 0.897\n",
      "\n",
      "Confusion Matrix:\n",
      "[[28  4]\n",
      " [ 6 22]]\n",
      "\n",
      "Classification Report:\n",
      "              precision    recall  f1-score   support\n",
      "\n",
      "           0       0.82      0.88      0.85        32\n",
      "           1       0.85      0.79      0.81        28\n",
      "\n",
      "    accuracy                           0.83        60\n",
      "   macro avg       0.83      0.83      0.83        60\n",
      "weighted avg       0.83      0.83      0.83        60\n",
      "\n",
      "--- Random Forest (Optimized) ---\n",
      "Accuracy : 0.850\n",
      "Precision: 0.852\n",
      "Recall   : 0.821\n",
      "F1-Score : 0.836\n",
      "AUC Score: 0.925\n",
      "\n",
      "Confusion Matrix:\n",
      "[[28  4]\n",
      " [ 5 23]]\n",
      "\n",
      "Classification Report:\n",
      "              precision    recall  f1-score   support\n",
      "\n",
      "           0       0.85      0.88      0.86        32\n",
      "           1       0.85      0.82      0.84        28\n",
      "\n",
      "    accuracy                           0.85        60\n",
      "   macro avg       0.85      0.85      0.85        60\n",
      "weighted avg       0.85      0.85      0.85        60\n",
      "\n",
      "--- SVM (Optimized) ---\n",
      "Accuracy : 0.850\n",
      "Precision: 0.852\n",
      "Recall   : 0.821\n",
      "F1-Score : 0.836\n",
      "AUC Score: 0.946\n",
      "\n",
      "Confusion Matrix:\n",
      "[[28  4]\n",
      " [ 5 23]]\n",
      "\n",
      "Classification Report:\n",
      "              precision    recall  f1-score   support\n",
      "\n",
      "           0       0.85      0.88      0.86        32\n",
      "           1       0.85      0.82      0.84        28\n",
      "\n",
      "    accuracy                           0.85        60\n",
      "   macro avg       0.85      0.85      0.85        60\n",
      "weighted avg       0.85      0.85      0.85        60\n",
      "\n"
     ]
    },
    {
     "data": {
      "image/png": "[encoded data removed]",
      "text/plain": [
       "<Figure size 1000x600 with 1 Axes>"
      ]
     },
     "metadata": {},
     "output_type": "display_data"
    }
   ],
   "source": [
    "def evaluate_model(name, model, X_test, y_test):\n",
    "    y_pred = model.predict(X_test)\n",
    "    y_proba = model.predict_proba(X_test)[:, 1] if hasattr(model, \"predict_proba\") else None\n",
    "\n",
    "    acc = accuracy_score(y_test, y_pred)\n",
    "    prec = precision_score(y_test, y_pred)\n",
    "    rec = recall_score(y_test, y_pred)\n",
    "    f1 = f1_score(y_test, y_pred)\n",
    "    auc = roc_auc_score(y_test, y_proba) if y_proba is not None else None\n",
    "\n",
    "    print(f\"--- {name} (Optimized) ---\")\n",
    "    print(f\"Accuracy : {acc:.3f}\")\n",
    "    print(f\"Precision: {prec:.3f}\")\n",
    "    print(f\"Recall   : {rec:.3f}\")\n",
    "    print(f\"F1-Score : {f1:.3f}\")\n",
    "    if auc: print(f\"AUC Score: {auc:.3f}\")\n",
    "    print(\"\\nConfusion Matrix:\")\n",
    "    print(confusion_matrix(y_test, y_pred))\n",
    "    print(\"\\nClassification Report:\")\n",
    "    print(classification_report(y_test, y_pred))\n",
    "    \n",
    "    if y_proba is not None:\n",
    "        fpr, tpr, _ = roc_curve(y_test, y_proba)\n",
    "        plt.plot(fpr, tpr, label=f'{name} (AUC = {auc:.2f})')\n",
    "\n",
    "plt.figure(figsize=(10, 6))\n",
    "for name, model in best_models.items():\n",
    "    evaluate_model(name, model, X_test, y_test)\n",
    "\n",
    "plt.plot([0, 1], [0, 1], 'k--')\n",
    "plt.xlabel('False Positive Rate')\n",
    "plt.ylabel('True Positive Rate')\n",
    "plt.title('ROC Curves of Optimized Models')\n",
    "plt.legend()\n",
    "plt.grid(True)\n",
    "plt.show()\n"
   ]
  },
  {
   "cell_type": "markdown",
   "id": "057bce26",
   "metadata": {},
   "source": [
    "## Step 5: Save the Best Models\n",
    "\n",
    "We save the optimized models for future use and deployment.\n"
   ]
  },
  {
   "cell_type": "code",
   "execution_count": 16,
   "id": "ff3dfc46",
   "metadata": {},
   "outputs": [
    {
     "name": "stdout",
     "output_type": "stream",
     "text": [
      "All optimized models saved successfully.\n"
     ]
    }
   ],
   "source": [
    "import os\n",
    "\n",
    "os.makedirs('../models', exist_ok=True)\n",
    "\n",
    "for name, model in best_models.items():\n",
    "    filename = f\"../models/{name.lower().replace(' ', '_')}_optimized.pkl\"\n",
    "    joblib.dump(model, filename)\n",
    "\n",
    "print(\"All optimized models saved successfully.\")\n"
   ]
  },
  {
   "cell_type": "markdown",
   "id": "fe0094f9",
   "metadata": {},
   "source": [
    "## Summary:\n",
    "\n",
    "- Hyperparameter tuning was performed using GridSearchCV with 5-fold cross-validation.\n",
    "- Optimized models showed improved performance compared to baseline.\n",
    "- Models saved in `../models` directory with suffix `_optimized`.\n",
    "- Next step: Deploy models and build interactive UI.\n"
   ]
  }
 ],
 "metadata": {
  "kernelspec": {
   "display_name": "Python 3.13 (pandas)",
   "language": "python",
   "name": "py313"
  },
  "language_info": {
   "codemirror_mode": {
    "name": "ipython",
    "version": 3
   },
   "file_extension": ".py",
   "mimetype": "text/x-python",
   "name": "python",
   "nbconvert_exporter": "python",
   "pygments_lexer": "ipython3",
   "version": "3.13.1"
  }
 },
 "nbformat": 4,
 "nbformat_minor": 5
}
