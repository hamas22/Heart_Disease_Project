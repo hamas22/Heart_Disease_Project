{
 "cells": [
  {
   "cell_type": "markdown",
   "id": "bb87b4ca",
   "metadata": {},
   "source": [
    "# 03 - Feature Selection\n",
    "\n",
    "In this notebook, we perform feature selection using different methods:\n",
    "- Feature Importance (Random Forest)\n",
    "- Recursive Feature Elimination (RFE)\n",
    "- Chi-Square Test\n"
   ]
  },
  {
   "cell_type": "code",
   "execution_count": 1,
   "id": "b2c66363",
   "metadata": {},
   "outputs": [],
   "source": [
    "import pandas as pd\n",
    "import numpy as np\n",
    "import matplotlib.pyplot as plt\n",
    "import seaborn as sns\n",
    "\n",
    "from sklearn.ensemble import RandomForestClassifier\n",
    "from sklearn.feature_selection import RFE, SelectKBest, chi2\n",
    "from sklearn.model_selection import train_test_split\n",
    "from sklearn.preprocessing import MinMaxScaler\n"
   ]
  },
  {
   "cell_type": "markdown",
   "id": "fb921aae",
   "metadata": {},
   "source": [
    "## Step 1: Load Cleaned Dataset\n"
   ]
  },
  {
   "cell_type": "code",
   "execution_count": 11,
   "id": "b692e247",
   "metadata": {},
   "outputs": [
    {
     "data": {
      "text/html": [
       "<div>\n",
       "<style scoped>\n",
       "    .dataframe tbody tr th:only-of-type {\n",
       "        vertical-align: middle;\n",
       "    }\n",
       "\n",
       "    .dataframe tbody tr th {\n",
       "        vertical-align: top;\n",
       "    }\n",
       "\n",
       "    .dataframe thead th {\n",
       "        text-align: right;\n",
       "    }\n",
       "</style>\n",
       "<table border=\"1\" class=\"dataframe\">\n",
       "  <thead>\n",
       "    <tr style=\"text-align: right;\">\n",
       "      <th></th>\n",
       "      <th>PC1</th>\n",
       "      <th>PC2</th>\n",
       "      <th>PC3</th>\n",
       "      <th>PC4</th>\n",
       "      <th>PC5</th>\n",
       "      <th>PC6</th>\n",
       "      <th>PC7</th>\n",
       "      <th>PC8</th>\n",
       "      <th>PC9</th>\n",
       "      <th>PC10</th>\n",
       "      <th>target</th>\n",
       "    </tr>\n",
       "  </thead>\n",
       "  <tbody>\n",
       "    <tr>\n",
       "      <th>0</th>\n",
       "      <td>0.613803</td>\n",
       "      <td>2.344950</td>\n",
       "      <td>4.543948</td>\n",
       "      <td>-0.816134</td>\n",
       "      <td>2.211090</td>\n",
       "      <td>1.823751</td>\n",
       "      <td>1.455185</td>\n",
       "      <td>0.016348</td>\n",
       "      <td>-0.099221</td>\n",
       "      <td>-0.112827</td>\n",
       "      <td>0</td>\n",
       "    </tr>\n",
       "    <tr>\n",
       "      <th>1</th>\n",
       "      <td>3.469339</td>\n",
       "      <td>0.918380</td>\n",
       "      <td>-1.175232</td>\n",
       "      <td>-0.840263</td>\n",
       "      <td>0.171983</td>\n",
       "      <td>0.848224</td>\n",
       "      <td>-0.043497</td>\n",
       "      <td>0.169923</td>\n",
       "      <td>-0.411693</td>\n",
       "      <td>-0.208924</td>\n",
       "      <td>1</td>\n",
       "    </tr>\n",
       "    <tr>\n",
       "      <th>2</th>\n",
       "      <td>3.324561</td>\n",
       "      <td>-0.720734</td>\n",
       "      <td>-0.461900</td>\n",
       "      <td>-0.046004</td>\n",
       "      <td>-0.745340</td>\n",
       "      <td>0.324757</td>\n",
       "      <td>-0.234373</td>\n",
       "      <td>0.576024</td>\n",
       "      <td>-0.997485</td>\n",
       "      <td>-0.259045</td>\n",
       "      <td>1</td>\n",
       "    </tr>\n",
       "    <tr>\n",
       "      <th>3</th>\n",
       "      <td>-1.689203</td>\n",
       "      <td>0.408676</td>\n",
       "      <td>3.827134</td>\n",
       "      <td>1.035580</td>\n",
       "      <td>-0.098559</td>\n",
       "      <td>-2.351468</td>\n",
       "      <td>1.106077</td>\n",
       "      <td>0.902457</td>\n",
       "      <td>-0.917294</td>\n",
       "      <td>0.236137</td>\n",
       "      <td>0</td>\n",
       "    </tr>\n",
       "    <tr>\n",
       "      <th>4</th>\n",
       "      <td>-2.545574</td>\n",
       "      <td>-0.438278</td>\n",
       "      <td>-0.015576</td>\n",
       "      <td>-1.271556</td>\n",
       "      <td>1.218582</td>\n",
       "      <td>-0.335912</td>\n",
       "      <td>0.392801</td>\n",
       "      <td>1.227352</td>\n",
       "      <td>-0.007793</td>\n",
       "      <td>-0.462969</td>\n",
       "      <td>0</td>\n",
       "    </tr>\n",
       "  </tbody>\n",
       "</table>\n",
       "</div>"
      ],
      "text/plain": [
       "        PC1       PC2       PC3       PC4       PC5       PC6       PC7  \\\n",
       "0  0.613803  2.344950  4.543948 -0.816134  2.211090  1.823751  1.455185   \n",
       "1  3.469339  0.918380 -1.175232 -0.840263  0.171983  0.848224 -0.043497   \n",
       "2  3.324561 -0.720734 -0.461900 -0.046004 -0.745340  0.324757 -0.234373   \n",
       "3 -1.689203  0.408676  3.827134  1.035580 -0.098559 -2.351468  1.106077   \n",
       "4 -2.545574 -0.438278 -0.015576 -1.271556  1.218582 -0.335912  0.392801   \n",
       "\n",
       "        PC8       PC9      PC10  target  \n",
       "0  0.016348 -0.099221 -0.112827       0  \n",
       "1  0.169923 -0.411693 -0.208924       1  \n",
       "2  0.576024 -0.997485 -0.259045       1  \n",
       "3  0.902457 -0.917294  0.236137       0  \n",
       "4  1.227352 -0.007793 -0.462969       0  "
      ]
     },
     "execution_count": 11,
     "metadata": {},
     "output_type": "execute_result"
    }
   ],
   "source": [
    "# Load the cleaned dataset\n",
    "df = pd.read_csv('data/heart_disease.csv')\n",
    "df.head()\n"
   ]
  },
  {
   "cell_type": "markdown",
   "id": "9a5427ab",
   "metadata": {},
   "source": [
    "## Step 2: Separate Features and Target\n"
   ]
  },
  {
   "cell_type": "code",
   "execution_count": 4,
   "id": "2d737677",
   "metadata": {},
   "outputs": [],
   "source": [
    "X = df.drop('target', axis=1)\n",
    "y = df['target']\n"
   ]
  },
  {
   "cell_type": "markdown",
   "id": "32ab7e39",
   "metadata": {},
   "source": [
    "## Step 3: Feature Importance (Random Forest)\n"
   ]
  },
  {
   "cell_type": "code",
   "execution_count": null,
   "id": "05fefb31",
   "metadata": {},
   "outputs": [
    {
     "data": {
      "image/png": "[encoded data removed]",
      "text/plain": [
       "<Figure size 1000x600 with 1 Axes>"
      ]
     },
     "metadata": {},
     "output_type": "display_data"
    }
   ],
   "source": [
    "model = RandomForestClassifier(random_state=42)\n",
    "model.fit(X, y)\n",
    "\n",
    "importances = pd.Series(model.feature_importances_, index=X.columns)\n",
    "importances = importances.sort_values(ascending=False)\n",
    "\n",
    "plt.figure(figsize=(10, 6))\n",
    "importances.plot(kind='bar')\n",
    "plt.title('Feature Importance - Random Forest')\n",
    "plt.ylabel('Importance Score')\n",
    "plt.grid(True)\n",
    "plt.show()\n"
   ]
  },
  {
   "cell_type": "markdown",
   "id": "e5d69b14",
   "metadata": {},
   "source": [
    "## Step 4: Recursive Feature Elimination (RFE)\n",
    "Use Logistic Regression to recursively remove least important features.\n"
   ]
  },
  {
   "cell_type": "code",
   "execution_count": 6,
   "id": "54a2e1e4",
   "metadata": {},
   "outputs": [
    {
     "name": "stdout",
     "output_type": "stream",
     "text": [
      "Selected Features by RFE:\n",
      "Index(['PC1', 'PC2', 'PC3', 'PC4', 'PC5', 'PC6', 'PC7', 'PC8', 'PC9', 'PC10'], dtype='object')\n"
     ]
    }
   ],
   "source": [
    "from sklearn.linear_model import LogisticRegression\n",
    "\n",
    "rfe_model = LogisticRegression(max_iter=1000)\n",
    "rfe = RFE(rfe_model, n_features_to_select=10)\n",
    "rfe.fit(X, y)\n",
    "\n",
    "selected_rfe = X.columns[rfe.support_]\n",
    "print(\"Selected Features by RFE:\")\n",
    "print(selected_rfe)\n"
   ]
  },
  {
   "cell_type": "markdown",
   "id": "c234c64a",
   "metadata": {},
   "source": [
    "## Step 5: Chi-Square Test\n",
    "Chi-Square is used for categorical input and categorical output.\n"
   ]
  },
  {
   "cell_type": "code",
   "execution_count": 7,
   "id": "b5067f57",
   "metadata": {},
   "outputs": [
    {
     "data": {
      "image/png": "[encoded data removed]",
      "text/plain": [
       "<Figure size 1000x600 with 1 Axes>"
      ]
     },
     "metadata": {},
     "output_type": "display_data"
    }
   ],
   "source": [
    "# Chi-Square requires non-negative data\n",
    "X_scaled = MinMaxScaler().fit_transform(X)\n",
    "\n",
    "chi2_selector = SelectKBest(score_func=chi2, k=10)\n",
    "chi2_selector.fit(X_scaled, y)\n",
    "\n",
    "chi2_scores = pd.Series(chi2_selector.scores_, index=X.columns)\n",
    "chi2_scores = chi2_scores.sort_values(ascending=False)\n",
    "\n",
    "plt.figure(figsize=(10, 6))\n",
    "chi2_scores.plot(kind='bar', color='teal')\n",
    "plt.title('Chi-Square Feature Scores')\n",
    "plt.ylabel('Score')\n",
    "plt.grid(True)\n",
    "plt.show()\n"
   ]
  },
  {
   "cell_type": "markdown",
   "id": "98058767",
   "metadata": {},
   "source": [
    "## Step 6: Final Feature Selection\n",
    "Select intersection of top features from all methods (or manually choose).\n"
   ]
  },
  {
   "cell_type": "code",
   "execution_count": null,
   "id": "6ee5fea9",
   "metadata": {},
   "outputs": [
    {
     "name": "stdout",
     "output_type": "stream",
     "text": [
      "Final Selected Features: ['PC1', 'PC5', 'PC4', 'PC9', 'PC2', 'PC8', 'PC7', 'PC6', 'PC3', 'PC10']\n"
     ]
    }
   ],
   "source": [
    "selected_features = list(importances.head(10).index)\n",
    "print(\"Final Selected Features:\", selected_features)\n",
    "\n",
    "X_reduced = df[selected_features + ['target']]\n",
    "X_reduced.to_csv('data/heart_disease_selected.csv', index=False)\n"
   ]
  }
 ],
 "metadata": {
  "kernelspec": {
   "display_name": "Python 3.13 (pandas)",
   "language": "python",
   "name": "py313"
  },
  "language_info": {
   "codemirror_mode": {
    "name": "ipython",
    "version": 3
   },
   "file_extension": ".py",
   "mimetype": "text/x-python",
   "name": "python",
   "nbconvert_exporter": "python",
   "pygments_lexer": "ipython3",
   "version": "3.13.1"
  }
 },
 "nbformat": 4,
 "nbformat_minor": 5
}
